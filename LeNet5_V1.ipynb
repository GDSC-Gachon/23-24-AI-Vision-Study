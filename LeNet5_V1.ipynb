{
  "nbformat": 4,
  "nbformat_minor": 0,
  "metadata": {
    "colab": {
      "provenance": [],
      "gpuType": "T4",
      "authorship_tag": "ABX9TyNpiHrw6hqj4c/uo3uA7irO",
      "include_colab_link": true
    },
    "kernelspec": {
      "name": "python3",
      "display_name": "Python 3"
    },
    "language_info": {
      "name": "python"
    },
    "accelerator": "GPU"
  },
  "cells": [
    {
      "cell_type": "markdown",
      "metadata": {
        "id": "view-in-github",
        "colab_type": "text"
      },
      "source": [
        "<a href=\"https://colab.research.google.com/github/pjs990301/23-24-AI-Vision-Study/blob/main/LeNet5_V1.ipynb\" target=\"_parent\"><img src=\"https://colab.research.google.com/assets/colab-badge.svg\" alt=\"Open In Colab\"/></a>"
      ]
    },
    {
      "cell_type": "code",
      "execution_count": 64,
      "metadata": {
        "id": "FQ5x3Fquli4e"
      },
      "outputs": [],
      "source": [
        "import torch\n",
        "import torch.nn as nn\n",
        "import torch.nn.functional as F\n",
        "import torch.optim as optim\n",
        "from torch.utils.data import Dataset, DataLoader\n",
        "import torchvision\n",
        "import torchvision.transforms as transforms\n",
        "import matplotlib.pyplot as plt\n",
        "from torchsummary import summary"
      ]
    },
    {
      "cell_type": "code",
      "source": [
        "lr = 1e-3\n",
        "batch_size = 64\n",
        "epochs = 20"
      ],
      "metadata": {
        "id": "3tkcgthwllyP"
      },
      "execution_count": 65,
      "outputs": []
    },
    {
      "cell_type": "code",
      "source": [
        "device = 'cuda' if torch.cuda.is_available() else 'cpu'\n",
        "device"
      ],
      "metadata": {
        "colab": {
          "base_uri": "https://localhost:8080/",
          "height": 36
        },
        "id": "S0l9uhmYltbC",
        "outputId": "c55048f4-04c2-476b-9cbd-4336e36c4a0a"
      },
      "execution_count": 66,
      "outputs": [
        {
          "output_type": "execute_result",
          "data": {
            "text/plain": [
              "'cuda'"
            ],
            "application/vnd.google.colaboratory.intrinsic+json": {
              "type": "string"
            }
          },
          "metadata": {},
          "execution_count": 66
        }
      ]
    },
    {
      "cell_type": "markdown",
      "source": [
        "# Datasets"
      ],
      "metadata": {
        "id": "lnInNSbYlwFY"
      }
    },
    {
      "cell_type": "code",
      "source": [
        "# Dataset은 MNIST Dataset으로 32x32x1 이미지입니다.\n",
        "\n",
        "transform = transforms.Compose([\n",
        "    transforms.Resize((32, 32)),\n",
        "    transforms.ToTensor()\n",
        "])\n",
        "\n",
        "trainset = torchvision.datasets.MNIST(root='./datasets',\n",
        "                                      transform=transform, train=True, download=True)\n",
        "testset = torchvision.datasets.MNIST(root='./datasets',\n",
        "                                     transform=transform, train=False, download=True)\n",
        "\n",
        "train_loader = DataLoader(trainset, batch_size=batch_size, shuffle=True)\n",
        "test_loader = DataLoader(testset, batch_size=batch_size, shuffle=False)"
      ],
      "metadata": {
        "id": "7RakkOZYltu7"
      },
      "execution_count": 67,
      "outputs": []
    },
    {
      "cell_type": "code",
      "source": [
        "trainset.class_to_idx"
      ],
      "metadata": {
        "colab": {
          "base_uri": "https://localhost:8080/"
        },
        "id": "3qutSGzQutKb",
        "outputId": "0cacf30d-c96a-48cc-814e-07f1ca5a474c"
      },
      "execution_count": 68,
      "outputs": [
        {
          "output_type": "execute_result",
          "data": {
            "text/plain": [
              "{'0 - zero': 0,\n",
              " '1 - one': 1,\n",
              " '2 - two': 2,\n",
              " '3 - three': 3,\n",
              " '4 - four': 4,\n",
              " '5 - five': 5,\n",
              " '6 - six': 6,\n",
              " '7 - seven': 7,\n",
              " '8 - eight': 8,\n",
              " '9 - nine': 9}"
            ]
          },
          "metadata": {},
          "execution_count": 68
        }
      ]
    },
    {
      "cell_type": "code",
      "source": [
        "image, label = trainset[10]\n",
        "\n",
        "classes = trainset.classes\n",
        "\n",
        "print(image.shape)\n",
        "print(image.dtype)\n",
        "print(classes[label])"
      ],
      "metadata": {
        "colab": {
          "base_uri": "https://localhost:8080/"
        },
        "id": "_SKWlwkcwmZF",
        "outputId": "19c6c835-be0a-4e77-e1b8-a9271bbbcf0e"
      },
      "execution_count": 69,
      "outputs": [
        {
          "output_type": "stream",
          "name": "stdout",
          "text": [
            "torch.Size([1, 32, 32])\n",
            "torch.float32\n",
            "3 - three\n"
          ]
        }
      ]
    },
    {
      "cell_type": "code",
      "source": [
        "plt.imshow(image.reshape(32,32), cmap = \"gray\")\n",
        "plt.show()"
      ],
      "metadata": {
        "colab": {
          "base_uri": "https://localhost:8080/",
          "height": 430
        },
        "id": "kiNNLenHuq1d",
        "outputId": "b5df0001-b76e-440a-8493-e92fd41ac35d"
      },
      "execution_count": 70,
      "outputs": [
        {
          "output_type": "display_data",
          "data": {
            "text/plain": [
              "<Figure size 640x480 with 1 Axes>"
            ],
            "image/png": "[encoded data removed]"
          },
          "metadata": {}
        }
      ]
    },
    {
      "cell_type": "markdown",
      "source": [
        "# Model (LeNet-5)"
      ],
      "metadata": {
        "id": "ysNZDTfRl5QV"
      }
    },
    {
      "cell_type": "code",
      "source": [
        "class LeNet(nn.Module):\n",
        "    def __init__(self):\n",
        "        super(LeNet, self).__init__()\n",
        "        self.C1 = nn.Conv2d(1, 6, kernel_size=5)\n",
        "        self.S2 = nn.AvgPool2d(2)\n",
        "        self.C3 = nn.Conv2d(6, 16, kernel_size=5)\n",
        "        self.S4 = nn.AvgPool2d(2)\n",
        "        self.C5 = nn.Conv2d(16, 120, kernel_size=5)\n",
        "        self.F6 = nn.Linear(120, 84)\n",
        "        self.Out = nn.Linear(84, 10)\n",
        "\n",
        "    def forward(self, x):\n",
        "        x = self.C1(x)\n",
        "        x = F.sigmoid(self.S2(x))\n",
        "        x = self.C3(x)\n",
        "        x = self.S4(x)\n",
        "        x = self.C5(x)\n",
        "        x = self.F6(torch.squeeze(x))\n",
        "        x = self.Out(x)\n",
        "\n",
        "        return x\n",
        "\n",
        "model = LeNet().to(device)\n",
        "model"
      ],
      "metadata": {
        "colab": {
          "base_uri": "https://localhost:8080/"
        },
        "id": "o5ItAp50l5Eh",
        "outputId": "8881abc0-c093-46c3-b79e-9b792dc633ea"
      },
      "execution_count": 71,
      "outputs": [
        {
          "output_type": "execute_result",
          "data": {
            "text/plain": [
              "LeNet(\n",
              "  (C1): Conv2d(1, 6, kernel_size=(5, 5), stride=(1, 1))\n",
              "  (S2): AvgPool2d(kernel_size=2, stride=2, padding=0)\n",
              "  (C3): Conv2d(6, 16, kernel_size=(5, 5), stride=(1, 1))\n",
              "  (S4): AvgPool2d(kernel_size=2, stride=2, padding=0)\n",
              "  (C5): Conv2d(16, 120, kernel_size=(5, 5), stride=(1, 1))\n",
              "  (F6): Linear(in_features=120, out_features=84, bias=True)\n",
              "  (Out): Linear(in_features=84, out_features=10, bias=True)\n",
              ")"
            ]
          },
          "metadata": {},
          "execution_count": 71
        }
      ]
    },
    {
      "cell_type": "code",
      "source": [
        "summary(model, (1,32,32))"
      ],
      "metadata": {
        "colab": {
          "base_uri": "https://localhost:8080/"
        },
        "id": "qwc1LcAbtwSt",
        "outputId": "efde1541-ab6b-42e1-fc38-54e8aa49b30a"
      },
      "execution_count": 72,
      "outputs": [
        {
          "output_type": "stream",
          "name": "stdout",
          "text": [
            "----------------------------------------------------------------\n",
            "        Layer (type)               Output Shape         Param #\n",
            "================================================================\n",
            "            Conv2d-1            [-1, 6, 28, 28]             156\n",
            "         AvgPool2d-2            [-1, 6, 14, 14]               0\n",
            "            Conv2d-3           [-1, 16, 10, 10]           2,416\n",
            "         AvgPool2d-4             [-1, 16, 5, 5]               0\n",
            "            Conv2d-5            [-1, 120, 1, 1]          48,120\n",
            "            Linear-6                   [-1, 84]          10,164\n",
            "            Linear-7                   [-1, 10]             850\n",
            "================================================================\n",
            "Total params: 61,706\n",
            "Trainable params: 61,706\n",
            "Non-trainable params: 0\n",
            "----------------------------------------------------------------\n",
            "Input size (MB): 0.00\n",
            "Forward/backward pass size (MB): 0.06\n",
            "Params size (MB): 0.24\n",
            "Estimated Total Size (MB): 0.30\n",
            "----------------------------------------------------------------\n"
          ]
        }
      ]
    },
    {
      "cell_type": "markdown",
      "source": [
        "# Train"
      ],
      "metadata": {
        "id": "MPcAf-oPl_ZB"
      }
    },
    {
      "cell_type": "code",
      "source": [
        "criterion = nn.CrossEntropyLoss()\n",
        "optimizer = optim.Adam(model.parameters(), lr=lr)"
      ],
      "metadata": {
        "id": "bpfFVs89l-Ex"
      },
      "execution_count": 73,
      "outputs": []
    },
    {
      "cell_type": "code",
      "source": [
        "for epoch in range(epochs):\n",
        "    for images, labels in train_loader:\n",
        "        images, labels = images.to(device), labels.to(device)\n",
        "\n",
        "        outputs = model(images)\n",
        "        loss = criterion(outputs, labels)\n",
        "\n",
        "        optimizer.zero_grad() # gradient 값을 0으로 변경\n",
        "        loss.backward() # backpropagation, loss function의 gradient값을 .grad에 저장\n",
        "        optimizer.step() # 계산된 gradient로 매개변수 업데이트\n",
        "\n",
        "    print(f\"Epoch [{epoch}/{epochs}] Loss: {loss.item():.4f}\")"
      ],
      "metadata": {
        "colab": {
          "base_uri": "https://localhost:8080/"
        },
        "id": "6cEBpxWTmB7Y",
        "outputId": "7e849365-4075-4f3f-b416-27f21c8c9f3a"
      },
      "execution_count": 74,
      "outputs": [
        {
          "output_type": "stream",
          "name": "stdout",
          "text": [
            "Epoch [0/20] Loss: 0.2064\n",
            "Epoch [1/20] Loss: 0.1705\n",
            "Epoch [2/20] Loss: 0.1206\n",
            "Epoch [3/20] Loss: 0.0797\n",
            "Epoch [4/20] Loss: 0.0383\n",
            "Epoch [5/20] Loss: 0.2044\n",
            "Epoch [6/20] Loss: 0.0237\n",
            "Epoch [7/20] Loss: 0.2653\n",
            "Epoch [8/20] Loss: 0.0561\n",
            "Epoch [9/20] Loss: 0.0397\n",
            "Epoch [10/20] Loss: 0.0094\n",
            "Epoch [11/20] Loss: 0.2907\n",
            "Epoch [12/20] Loss: 0.0231\n",
            "Epoch [13/20] Loss: 0.0128\n",
            "Epoch [14/20] Loss: 0.0492\n",
            "Epoch [15/20] Loss: 0.0468\n",
            "Epoch [16/20] Loss: 0.0865\n",
            "Epoch [17/20] Loss: 0.2388\n",
            "Epoch [18/20] Loss: 0.1956\n",
            "Epoch [19/20] Loss: 0.1416\n"
          ]
        }
      ]
    },
    {
      "cell_type": "code",
      "source": [
        "model.to('cpu')\n",
        "for i in range(10):\n",
        "    pred = torch.argmax(model(trainset[i][0])).item()\n",
        "    label = trainset.targets[i]\n",
        "\n",
        "    print(f\"모델 예측값 : {pred}, 실제 값 : {label}\")"
      ],
      "metadata": {
        "colab": {
          "base_uri": "https://localhost:8080/"
        },
        "id": "66Jj8wxyuRKY",
        "outputId": "e0439327-d6e5-4c74-9954-e23749f7c6ef"
      },
      "execution_count": 76,
      "outputs": [
        {
          "output_type": "stream",
          "name": "stdout",
          "text": [
            "모델 예측값 : 5, 실제 값 : 5\n",
            "모델 예측값 : 0, 실제 값 : 0\n",
            "모델 예측값 : 4, 실제 값 : 4\n",
            "모델 예측값 : 1, 실제 값 : 1\n",
            "모델 예측값 : 9, 실제 값 : 9\n",
            "모델 예측값 : 2, 실제 값 : 2\n",
            "모델 예측값 : 1, 실제 값 : 1\n",
            "모델 예측값 : 3, 실제 값 : 3\n",
            "모델 예측값 : 1, 실제 값 : 1\n",
            "모델 예측값 : 4, 실제 값 : 4\n"
          ]
        }
      ]
    }
  ]
}